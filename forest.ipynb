{
 "cells": [
  {
   "cell_type": "code",
   "execution_count": null,
   "metadata": {},
   "outputs": [],
   "source": [
    "thePath = [\"NORTH\", \"SOUTH\", \"EAST\", \"WEST\", \"NORTH\"]\n",
    "directions = [\"NORTH\", \"SOUTH\", \"EAST\", \"WEST\"]\n",
    "directionsString = \", \".join(directions)\n",
    "\n",
    "currentLocation = 0\n",
    "\n",
    "while currentLocation != len(thePath):\n",
    "    userRawInput = input(\"You are in a forest. You can go \" + directionsString + \". Which way do you go?\")\n",
    "    userInput = userRawInput.upper()\n",
    "    if userInput not in directions:\n",
    "        print(\"You can't go that way...\")\n",
    "        continue\n",
    "\n",
    "    if userInput == thePath[currentLocation]:\n",
    "        currentLocation += 1\n",
    "        print(\"You continue on your way...\")\n",
    "    else:\n",
    "        print(\"You lose your way...\")\n",
    "        currentLocation = 0\n",
    "print(\"You made it out of the forest!\")\n"
   ]
  }
 ],
 "metadata": {
  "language_info": {
   "name": "python"
  }
 },
 "nbformat": 4,
 "nbformat_minor": 2
}
